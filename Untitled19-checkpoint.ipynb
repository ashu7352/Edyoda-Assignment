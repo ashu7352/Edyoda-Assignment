{
 "cells": [
  {
   "cell_type": "code",
   "execution_count": 4,
   "id": "a7f102b7",
   "metadata": {},
   "outputs": [
    {
     "name": "stdout",
     "output_type": "stream",
     "text": [
      "Enter number of rows: 5\n",
      "*  *  *  *  *  \n",
      "\n",
      "*  *  *  *  \n",
      "\n",
      "*  *  *  \n",
      "\n",
      "*  *  \n",
      "\n",
      "*  \n",
      "\n"
     ]
    }
   ],
   "source": [
    "rows = int(input(\"Enter number of rows: \"))\n",
    "\n",
    "for i in range(rows, 0, -1):\n",
    "    for j in range(0, i):\n",
    "        print(\"* \", end=\" \")\n",
    "    \n",
    "    print(\"\\n\")"
   ]
  },
  {
   "cell_type": "code",
   "execution_count": 18,
   "id": "f2cd06aa",
   "metadata": {},
   "outputs": [
    {
     "name": "stdout",
     "output_type": "stream",
     "text": [
      "Enter number of rows: 5\n",
      "1 2 3 4 5 \n",
      "\n",
      "1 2 3 4 \n",
      "\n",
      "1 2 3 \n",
      "\n",
      "1 2 \n",
      "\n",
      "1 \n",
      "\n"
     ]
    }
   ],
   "source": [
    "rows = int(input(\"Enter number of rows: \"))\n",
    "\n",
    "for i in range(rows, 0, -1):\n",
    "    for j in range(1, i+1):\n",
    "        print(j, end=\" \")\n",
    "    \n",
    "    \n",
    "    print(\"\\n\")\n"
   ]
  },
  {
   "cell_type": "code",
   "execution_count": 14,
   "id": "57d17e30",
   "metadata": {},
   "outputs": [
    {
     "name": "stdout",
     "output_type": "stream",
     "text": [
      "Enter number of rows: 5\n",
      "        * \n",
      "      * * * \n",
      "    * * * * * \n",
      "  * * * * * * * \n",
      "* * * * * * * * * \n"
     ]
    }
   ],
   "source": [
    "rows = int(input(\"Enter number of rows: \"))\n",
    "\n",
    "k = 0\n",
    "\n",
    "for i in range(1, rows+1):\n",
    "    for space in range(1, (rows-i)+1):\n",
    "        print(end=\"  \")\n",
    "   \n",
    "    while k!=(2*i-1):\n",
    "        print(\"* \", end=\"\")\n",
    "        k += 1\n",
    "   \n",
    "    k = 0\n",
    "    print()"
   ]
  },
  {
   "cell_type": "code",
   "execution_count": 35,
   "id": "f6b19497",
   "metadata": {},
   "outputs": [
    {
     "name": "stdout",
     "output_type": "stream",
     "text": [
      "---------Apple\n",
      "Mango\n",
      "Cherry\n",
      "Mango\n",
      "Cherry\n",
      "---------Apple\n",
      "Mango\n",
      "Cherry\n",
      "Mango\n",
      "Cherry\n",
      "---------Apple\n",
      "Mango\n",
      "Cherry\n",
      "Mango\n",
      "Cherry\n",
      "---------Apple\n",
      "Mango\n",
      "Cherry\n",
      "Mango\n",
      "Cherry\n"
     ]
    }
   ],
   "source": [
    "for i in range(1,5):\n",
    "    print(\"---------Apple\")\n",
    "\n",
    "    for j in range (2,4):\n",
    "        print(\"Mango\")\n",
    "        \n",
    "        for k in range(1,2):\n",
    "            print(\"Cherry\")"
   ]
  },
  {
   "cell_type": "code",
   "execution_count": 34,
   "id": "b48e8d77",
   "metadata": {},
   "outputs": [
    {
     "name": "stdout",
     "output_type": "stream",
     "text": [
      "Hello\n",
      "World\n",
      "Learning Python\n",
      "Hello\n",
      "World\n",
      "Learning Python\n",
      "Hello\n",
      "World\n",
      "Learning Python\n",
      "Hello\n",
      "World\n",
      "Learning Python\n"
     ]
    }
   ],
   "source": [
    "for i in range(1,5):\n",
    "    print(\"Hello\")\n",
    "    print(\"World\")\n",
    "    print(\"Learning Python\")"
   ]
  },
  {
   "cell_type": "code",
   "execution_count": 1,
   "id": "3f38b534",
   "metadata": {},
   "outputs": [
    {
     "name": "stdout",
     "output_type": "stream",
     "text": [
      "The Maximum element of the given list is:  59\n"
     ]
    }
   ],
   "source": [
    "l=[20,36,48,59,13]\n",
    "l.sort()\n",
    "maximum_element = l [-1]\n",
    "print(\"The Maximum element of the given list is: \", maximum_element)"
   ]
  },
  {
   "cell_type": "code",
   "execution_count": null,
   "id": "76f2ab8d",
   "metadata": {},
   "outputs": [],
   "source": [
    "n=int(input(\"Enter number of elements:\"))\n",
    "for i in range(1,n+1):\n",
    "    b=int(input(\"Enter element:\"))\n",
    "    a.append(b)\n",
    "a.sort()\n",
    "print(\"Largest element is:\",a[n-1])"
   ]
  },
  {
   "cell_type": "code",
   "execution_count": 7,
   "id": "e784a57d",
   "metadata": {},
   "outputs": [
    {
     "name": "stderr",
     "output_type": "stream",
     "text": [
      "<>:2: SyntaxWarning: 'int' object is not subscriptable; perhaps you missed a comma?\n",
      "<>:2: SyntaxWarning: 'int' object is not subscriptable; perhaps you missed a comma?\n",
      "C:\\Users\\Araaz\\AppData\\Local\\Temp\\ipykernel_17048\\1070361668.py:2: SyntaxWarning: 'int' object is not subscriptable; perhaps you missed a comma?\n",
      "  maxium=1[0]\n",
      "C:\\Users\\Araaz\\AppData\\Local\\Temp\\ipykernel_17048\\1070361668.py:2: SyntaxWarning: 'int' object is not subscriptable; perhaps you missed a comma?\n",
      "  maxium=1[0]\n",
      "C:\\Users\\Araaz\\AppData\\Local\\Temp\\ipykernel_17048\\1070361668.py:2: SyntaxWarning: 'int' object is not subscriptable; perhaps you missed a comma?\n",
      "  maxium=1[0]\n"
     ]
    },
    {
     "ename": "TypeError",
     "evalue": "'int' object is not subscriptable",
     "output_type": "error",
     "traceback": [
      "\u001b[1;31m---------------------------------------------------------------------------\u001b[0m",
      "\u001b[1;31mTypeError\u001b[0m                                 Traceback (most recent call last)",
      "Cell \u001b[1;32mIn[7], line 2\u001b[0m\n\u001b[0;32m      1\u001b[0m l\u001b[38;5;241m=\u001b[39m[\u001b[38;5;241m20\u001b[39m,\u001b[38;5;241m36\u001b[39m,\u001b[38;5;241m48\u001b[39m,\u001b[38;5;241m59\u001b[39m,\u001b[38;5;241m13\u001b[39m]\n\u001b[1;32m----> 2\u001b[0m maxium\u001b[38;5;241m=\u001b[39m\u001b[38;5;241;43m1\u001b[39;49m\u001b[43m[\u001b[49m\u001b[38;5;241;43m0\u001b[39;49m\u001b[43m]\u001b[49m\n\u001b[0;32m      3\u001b[0m \u001b[38;5;28;01mfor\u001b[39;00m i \u001b[38;5;129;01min\u001b[39;00m l:\n\u001b[0;32m      4\u001b[0m      \u001b[38;5;28;01mif\u001b[39;00m i\u001b[38;5;241m>\u001b[39mmaximum:\n",
      "\u001b[1;31mTypeError\u001b[0m: 'int' object is not subscriptable"
     ]
    }
   ],
   "source": [
    "l=[20,36,48,59,13]\n",
    "maxium=1[0]\n",
    "for i in l:\n",
    "     if i>maximum:\n",
    "        maximum=i\n",
    "print(\"maximum\", maximum)       "
   ]
  },
  {
   "cell_type": "code",
   "execution_count": 8,
   "id": "c08d9ac5",
   "metadata": {},
   "outputs": [
    {
     "name": "stdout",
     "output_type": "stream",
     "text": [
      "the largest number: 89\n"
     ]
    }
   ],
   "source": [
    "numbers=[12,45,67,89,34,56]\n",
    "largest_number=max(numbers)\n",
    "print(\"the largest number:\", largest_number)"
   ]
  },
  {
   "cell_type": "code",
   "execution_count": 9,
   "id": "cdcb8f42",
   "metadata": {},
   "outputs": [
    {
     "name": "stdout",
     "output_type": "stream",
     "text": [
      "89\n"
     ]
    }
   ],
   "source": [
    "l=[12,45,67,89,34,56]\n",
    "print(max(l))"
   ]
  },
  {
   "cell_type": "code",
   "execution_count": 11,
   "id": "03ee6844",
   "metadata": {},
   "outputs": [
    {
     "name": "stdout",
     "output_type": "stream",
     "text": [
      "2\n"
     ]
    }
   ],
   "source": [
    "capital_city = {\"Nepal\":\"Kathmandu\",\"England\":\"London\"}\n",
    "print(len(capital_city))"
   ]
  },
  {
   "cell_type": "code",
   "execution_count": 13,
   "id": "df63636e",
   "metadata": {},
   "outputs": [
    {
     "name": "stdout",
     "output_type": "stream",
     "text": [
      "3\n"
     ]
    }
   ],
   "source": [
    "capital_city[\"India\"]= \"New Delhi\"\n",
    "print(len(capital_city))"
   ]
  },
  {
   "cell_type": "code",
   "execution_count": 15,
   "id": "7842c263",
   "metadata": {},
   "outputs": [
    {
     "name": "stdout",
     "output_type": "stream",
     "text": [
      "Country is:Nepal, Capital is: Kathmandu\n",
      "Country is:England, Capital is: London\n",
      "Country is:India, Capital is: New Delhi\n"
     ]
    }
   ],
   "source": [
    "for Country, Capital in capital_city.items():\n",
    "    print(f'Country is:{Country}, Capital is: {Capital}')"
   ]
  },
  {
   "cell_type": "code",
   "execution_count": 16,
   "id": "407463bd",
   "metadata": {},
   "outputs": [
    {
     "name": "stdout",
     "output_type": "stream",
     "text": [
      "Nepal\n",
      "valueis: {'Nepal': 'Kathmandu', 'England': 'London', 'India': 'New Delhi'}\n",
      "England\n",
      "valueis: {'Nepal': 'Kathmandu', 'England': 'London', 'India': 'New Delhi'}\n",
      "India\n",
      "valueis: {'Nepal': 'Kathmandu', 'England': 'London', 'India': 'New Delhi'}\n"
     ]
    }
   ],
   "source": [
    "for i in capital_city:\n",
    "    print(i)\n",
    "    print(\"value is:\", capital_city)"
   ]
  },
  {
   "cell_type": "code",
   "execution_count": null,
   "id": "5caf0c59",
   "metadata": {},
   "outputs": [],
   "source": []
  }
 ],
 "metadata": {
  "kernelspec": {
   "display_name": "Python 3 (ipykernel)",
   "language": "python",
   "name": "python3"
  },
  "language_info": {
   "codemirror_mode": {
    "name": "ipython",
    "version": 3
   },
   "file_extension": ".py",
   "mimetype": "text/x-python",
   "name": "python",
   "nbconvert_exporter": "python",
   "pygments_lexer": "ipython3",
   "version": "3.10.9"
  }
 },
 "nbformat": 4,
 "nbformat_minor": 5
}
