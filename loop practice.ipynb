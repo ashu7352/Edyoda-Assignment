{
 "cells": [
  {
   "cell_type": "code",
   "execution_count": 2,
   "id": "00262a33",
   "metadata": {},
   "outputs": [
    {
     "name": "stdout",
     "output_type": "stream",
     "text": [
      "the number is: 122\n",
      "the number is: 3222\n",
      "the number is: 32234\n",
      "the number is: 343442\n"
     ]
    }
   ],
   "source": [
    "li = [122, 3222, 32234,343442]\n",
    "for i in li:\n",
    "    print(\"the number is:\", i)"
   ]
  },
  {
   "cell_type": "code",
   "execution_count": 13,
   "id": "3f24a5fd",
   "metadata": {},
   "outputs": [
    {
     "name": "stdout",
     "output_type": "stream",
     "text": [
      "0\n",
      "1\n",
      "2\n",
      "3\n"
     ]
    }
   ],
   "source": [
    "for i in range(len(li)):\n",
    "    print(i)"
   ]
  },
  {
   "cell_type": "code",
   "execution_count": 5,
   "id": "ce56c9f0",
   "metadata": {},
   "outputs": [
    {
     "name": "stdout",
     "output_type": "stream",
     "text": [
      "3\n",
      "4\n",
      "5\n",
      "6\n",
      "7\n",
      "8\n"
     ]
    }
   ],
   "source": [
    "for i in range(3, 9):\n",
    "    print(i)"
   ]
  },
  {
   "cell_type": "code",
   "execution_count": 7,
   "id": "aadf085e",
   "metadata": {},
   "outputs": [
    {
     "name": "stdout",
     "output_type": "stream",
     "text": [
      "29\n",
      "31\n",
      "33\n",
      "35\n",
      "37\n",
      "39\n",
      "41\n",
      "43\n",
      "45\n",
      "47\n",
      "49\n",
      "51\n",
      "53\n",
      "55\n",
      "57\n",
      "59\n",
      "61\n",
      "63\n",
      "65\n",
      "67\n",
      "69\n",
      "71\n",
      "73\n",
      "75\n"
     ]
    }
   ],
   "source": [
    "for i in range(29, 77, 2):\n",
    "    print(i)"
   ]
  },
  {
   "cell_type": "code",
   "execution_count": 11,
   "id": "4b0528e3",
   "metadata": {},
   "outputs": [
    {
     "name": "stdout",
     "output_type": "stream",
     "text": [
      "77\n",
      "75\n",
      "73\n",
      "71\n",
      "69\n",
      "67\n",
      "65\n",
      "63\n",
      "61\n",
      "59\n",
      "57\n",
      "55\n",
      "53\n",
      "51\n",
      "49\n",
      "47\n",
      "45\n",
      "43\n",
      "41\n",
      "39\n",
      "37\n",
      "35\n",
      "33\n"
     ]
    }
   ],
   "source": [
    "for i in range(77,32,-2):\n",
    "    print(i)"
   ]
  },
  {
   "cell_type": "code",
   "execution_count": 16,
   "id": "63e005c1",
   "metadata": {},
   "outputs": [
    {
     "name": "stdout",
     "output_type": "stream",
     "text": [
      "the num 45\n",
      "the num 46\n",
      "the num 47\n",
      "the num 48\n",
      "the num 49\n",
      "the num 50\n",
      "the num 51\n",
      "the num 52\n",
      "the num 53\n",
      "the num 54\n",
      "the num 55\n",
      "the num 56\n",
      "the num 57\n",
      "the num 58\n",
      "the num 59\n",
      "the num 60\n",
      "the num 61\n",
      "the num 62\n",
      "the num 63\n",
      "the num 64\n",
      "the num 65\n",
      "the num 66\n",
      "the num 67\n",
      "the num 68\n",
      "the num 69\n",
      "the num 70\n",
      "the num 71\n",
      "the num 72\n",
      "the num 73\n",
      "the num 74\n",
      "the num 75\n",
      "the num 76\n",
      "the num 77\n"
     ]
    }
   ],
   "source": [
    "for i in range(45,78):\n",
    "    print(\"the num\", i)"
   ]
  },
  {
   "cell_type": "code",
   "execution_count": 18,
   "id": "34daefeb",
   "metadata": {},
   "outputs": [
    {
     "name": "stdout",
     "output_type": "stream",
     "text": [
      "0\n",
      "1\n",
      "2\n",
      "3\n",
      "4\n",
      "5\n",
      "6\n",
      "7\n",
      "8\n",
      "9\n",
      "10\n",
      "11\n",
      "12\n"
     ]
    }
   ],
   "source": [
    "for i in range(13):\n",
    "    print(i)"
   ]
  },
  {
   "cell_type": "code",
   "execution_count": 19,
   "id": "006b82c4",
   "metadata": {},
   "outputs": [
    {
     "name": "stdout",
     "output_type": "stream",
     "text": [
      "index: 0\n",
      "number: 122\n",
      "index: 1\n",
      "number: 3222\n",
      "index: 2\n",
      "number: 32234\n",
      "index: 3\n",
      "number: 343442\n"
     ]
    }
   ],
   "source": [
    "for i in range(len(li)):\n",
    "    print(\"index:\", i)\n",
    "    print(\"number:\", li[i])"
   ]
  },
  {
   "cell_type": "code",
   "execution_count": 20,
   "id": "eed98046",
   "metadata": {},
   "outputs": [
    {
     "name": "stdout",
     "output_type": "stream",
     "text": [
      "index: 0\n",
      "number: 122\n",
      "index: 1\n",
      "number: 3222\n",
      "index: 2\n",
      "number: 32234\n",
      "index: 3\n",
      "number: 343442\n"
     ]
    }
   ],
   "source": [
    "for i in range(len(li)):\n",
    "    print(\"index:\", i)\n",
    "    print(\"number:\", li[i])"
   ]
  },
  {
   "cell_type": "code",
   "execution_count": 21,
   "id": "0805afc9",
   "metadata": {},
   "outputs": [
    {
     "ename": "SyntaxError",
     "evalue": "unterminated string literal (detected at line 2) (1989809354.py, line 2)",
     "output_type": "error",
     "traceback": [
      "\u001b[1;36m  Cell \u001b[1;32mIn[21], line 2\u001b[1;36m\u001b[0m\n\u001b[1;33m    print(f'index is: {i}, number is:{li[i]}'')\u001b[0m\n\u001b[1;37m                                             ^\u001b[0m\n\u001b[1;31mSyntaxError\u001b[0m\u001b[1;31m:\u001b[0m unterminated string literal (detected at line 2)\n"
     ]
    }
   ],
   "source": [
    "for i in range(len(li)):\n",
    "    print(f'index is: {i}, number is:{li[i]}'')"
   ]
  },
  {
   "cell_type": "code",
   "execution_count": 24,
   "id": "603dc494",
   "metadata": {},
   "outputs": [
    {
     "name": "stdout",
     "output_type": "stream",
     "text": [
      "The mango is a fruit\n"
     ]
    }
   ],
   "source": [
    "x = \"mango\"\n",
    "print(f'The {x} is a fruit')"
   ]
  },
  {
   "cell_type": "code",
   "execution_count": null,
   "id": "d23a5e2c",
   "metadata": {},
   "outputs": [],
   "source": []
  },
  {
   "cell_type": "code",
   "execution_count": 31,
   "id": "63e9dc21",
   "metadata": {},
   "outputs": [
    {
     "name": "stdout",
     "output_type": "stream",
     "text": [
      "1\n",
      "8\n",
      "girl\n"
     ]
    }
   ],
   "source": [
    "l=[1,8, \"girl\"]\n",
    "for i in range(len(l)):\n",
    "    print(f'{l[i]}')\n",
    "    "
   ]
  },
  {
   "cell_type": "code",
   "execution_count": 32,
   "id": "95c431bc",
   "metadata": {},
   "outputs": [
    {
     "name": "stdout",
     "output_type": "stream",
     "text": [
      "0 1\n",
      "1 8\n",
      "2 girl\n"
     ]
    }
   ],
   "source": [
    "l= [1,8, \"girl\"]\n",
    "for i, j in enumerate(l):\n",
    "    print(i,j)"
   ]
  },
  {
   "cell_type": "code",
   "execution_count": 42,
   "id": "5081825c",
   "metadata": {},
   "outputs": [
    {
     "name": "stdout",
     "output_type": "stream",
     "text": [
      "10\n",
      "23\n",
      "loop terminates\n"
     ]
    }
   ],
   "source": [
    "l=[10,23,54,6]\n",
    "for i in l:\n",
    "    if i == 54:\n",
    "        break\n",
    "    print(i)\n",
    "        \n",
    "print(\"loop terminates\")"
   ]
  },
  {
   "cell_type": "code",
   "execution_count": 43,
   "id": "0c06fc98",
   "metadata": {},
   "outputs": [
    {
     "name": "stdout",
     "output_type": "stream",
     "text": [
      "1\n",
      "2\n",
      "4\n",
      "5\n",
      "loop ended\n"
     ]
    }
   ],
   "source": [
    "numb = [1,2,3,4,5]\n",
    "for num in numb:\n",
    "    if num==3:\n",
    "        continue\n",
    "    print(num)\n",
    "print(\"loop ended\")"
   ]
  },
  {
   "cell_type": "code",
   "execution_count": 45,
   "id": "5ae93a42",
   "metadata": {},
   "outputs": [
    {
     "name": "stdout",
     "output_type": "stream",
     "text": [
      "loop ended\n"
     ]
    }
   ],
   "source": [
    "numb = [1,2,3,4,5]\n",
    "for num in numb:\n",
    "    pass\n",
    "\n",
    "print(\"loop ended\")"
   ]
  },
  {
   "cell_type": "code",
   "execution_count": 47,
   "id": "b4a824b7",
   "metadata": {},
   "outputs": [
    {
     "name": "stdout",
     "output_type": "stream",
     "text": [
      "p\n",
      "y\n",
      "t\n",
      "h\n",
      "o\n",
      "n\n",
      " \n",
      "p\n",
      "r\n",
      "o\n",
      "g\n",
      "r\n",
      "a\n",
      "m\n",
      "m\n",
      "i\n",
      "n\n",
      "g\n"
     ]
    }
   ],
   "source": [
    "s = \"python programming\"\n",
    "for i in s:\n",
    "    print(i)"
   ]
  },
  {
   "cell_type": "code",
   "execution_count": 50,
   "id": "fc867352",
   "metadata": {},
   "outputs": [
    {
     "name": "stdout",
     "output_type": "stream",
     "text": [
      "length of s 18\n",
      "0 p\n",
      "1 y\n",
      "2 t\n",
      "3 h\n",
      "4 o\n",
      "5 n\n",
      "6  \n",
      "7 p\n",
      "8 r\n",
      "9 o\n",
      "10 g\n",
      "11 r\n",
      "12 a\n",
      "13 m\n",
      "14 m\n",
      "15 i\n",
      "16 n\n",
      "17 g\n"
     ]
    }
   ],
   "source": [
    "s = \"python programming\"\n",
    "print(\"length of s\", len(s))\n",
    "for i in range(len(s)):\n",
    "    print(i, s[i])"
   ]
  },
  {
   "cell_type": "code",
   "execution_count": 51,
   "id": "aaccf376",
   "metadata": {},
   "outputs": [
    {
     "name": "stdout",
     "output_type": "stream",
     "text": [
      "0\n",
      "1\n",
      "2\n"
     ]
    }
   ],
   "source": [
    "for i in range(5):\n",
    "    print(i)\n",
    "    if i==2:\n",
    "        break"
   ]
  },
  {
   "cell_type": "code",
   "execution_count": 52,
   "id": "7d790807",
   "metadata": {},
   "outputs": [
    {
     "name": "stdout",
     "output_type": "stream",
     "text": [
      "index:0, number:1\n",
      "index:1, number:2\n",
      "index:2, number:3\n",
      "index:3, number:4\n",
      "index:4, number:5\n"
     ]
    }
   ],
   "source": [
    "numbers=[1,2,3,4,5]\n",
    "for index, number in enumerate(numbers):\n",
    "    print(f\"index:{index}, number:{number}\")"
   ]
  },
  {
   "cell_type": "code",
   "execution_count": 53,
   "id": "a7941517",
   "metadata": {},
   "outputs": [
    {
     "name": "stdout",
     "output_type": "stream",
     "text": [
      "2\n",
      "4\n",
      "6\n",
      "8\n"
     ]
    }
   ],
   "source": [
    "for i in range(2,10,2):\n",
    "    print(i)"
   ]
  },
  {
   "cell_type": "code",
   "execution_count": 56,
   "id": "f7e1d222",
   "metadata": {},
   "outputs": [
    {
     "name": "stdout",
     "output_type": "stream",
     "text": [
      "0\n",
      "3\n",
      "2\n",
      "5\n",
      "4\n"
     ]
    }
   ],
   "source": [
    "for i in range(1,6):\n",
    "    if i%2==0:\n",
    "        print(i+1)\n",
    "    else:\n",
    "            print(i-1)"
   ]
  },
  {
   "cell_type": "code",
   "execution_count": null,
   "id": "6971e7c5",
   "metadata": {},
   "outputs": [],
   "source": []
  }
 ],
 "metadata": {
  "kernelspec": {
   "display_name": "Python 3 (ipykernel)",
   "language": "python",
   "name": "python3"
  },
  "language_info": {
   "codemirror_mode": {
    "name": "ipython",
    "version": 3
   },
   "file_extension": ".py",
   "mimetype": "text/x-python",
   "name": "python",
   "nbconvert_exporter": "python",
   "pygments_lexer": "ipython3",
   "version": "3.10.9"
  }
 },
 "nbformat": 4,
 "nbformat_minor": 5
}
